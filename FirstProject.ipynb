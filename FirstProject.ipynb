{
  "nbformat": 4,
  "nbformat_minor": 0,
  "metadata": {
    "colab": {
      "name": "FirstProject.ipynb",
      "provenance": [],
      "authorship_tag": "ABX9TyP/ViWWtApfjmQzrcFwzzYa",
      "include_colab_link": true
    },
    "kernelspec": {
      "name": "python3",
      "display_name": "Python 3"
    },
    "language_info": {
      "name": "python"
    }
  },
  "cells": [
    {
      "cell_type": "markdown",
      "metadata": {
        "id": "view-in-github",
        "colab_type": "text"
      },
      "source": [
        "<a href=\"https://colab.research.google.com/github/SimplyJuanjo/FirstProject/blob/main/FirstProject.ipynb\" target=\"_parent\"><img src=\"https://colab.research.google.com/assets/colab-badge.svg\" alt=\"Open In Colab\"/></a>"
      ]
    },
    {
      "cell_type": "code",
      "metadata": {
        "id": "7DA7qMcv-Bs4"
      },
      "source": [
        "#PRIMER PROYECTO: Vamos a convertir este minijuego en algo más elaborado\n",
        "#Añade las siguientes mejoras:\n",
        "  #- Notificar al usuario si su número es mayor o menor*\n",
        "  #- Implementar número máximo de intentos\n",
        "  #- Mostrar número de intentos usados\n",
        "  #- Posibilidad de volver a jugar\n",
        "  #- Mostrar resultado si se introduce -1 (cheat code)\n",
        "  #- Mensaje especial si se adivina a la primera\n",
        "  #- Cualquier otra mejora que se te ocurra:\n",
        "    #- Si se adivina a la primera mostrar link a Github como regalo \n",
        "    #- Elegir dificultad al inicio (fácil: muestra mayor o menor* y te da 5 intentos\\\n",
        "    #                               díficil: no muestra mayor o menor y te da 3 intentos )\n",
        "    #- Racha de victorias\n",
        "    #- \n",
        "    \n",
        "#Sube tu proyecto a Github para que todos puedan verlo \n"
      ],
      "execution_count": null,
      "outputs": []
    }
  ]
}