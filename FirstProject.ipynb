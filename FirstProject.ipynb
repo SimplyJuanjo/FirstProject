{
  "nbformat": 4,
  "nbformat_minor": 0,
  "metadata": {
    "colab": {
      "name": "FirstProject.ipynb",
      "provenance": [],
      "include_colab_link": true
    },
    "kernelspec": {
      "name": "python3",
      "display_name": "Python 3"
    },
    "language_info": {
      "name": "python"
    }
  },
  "cells": [
    {
      "cell_type": "markdown",
      "metadata": {
        "id": "view-in-github",
        "colab_type": "text"
      },
      "source": [
        "<a href=\"https://colab.research.google.com/github/SimplyJuanjo/FirstProject/blob/main/FirstProject.ipynb\" target=\"_parent\"><img src=\"https://colab.research.google.com/assets/colab-badge.svg\" alt=\"Open In Colab\"/></a>"
      ]
    },
    {
      "cell_type": "code",
      "metadata": {
        "id": "Kk33JQhjM39o"
      },
      "source": [
        "#Ejercicio Usando \"import random\" escribe un programa que genere un número aleatorio y le pida al usuario de manera repetida que escriba un número hasta que lo adivine:\n",
        "\n",
        "import random\n",
        "\n",
        "x = random.randint(1, 10)\n",
        "\n",
        "c = 1\n",
        "i = 0\n",
        "a = int(input(\"Escribe un numero \"))\n",
        "\n",
        "while a!=x:\n",
        "\n",
        "  print(\"Incorrecto\")\n",
        "  i += 1\n",
        "\n",
        "  if show_i == True:\n",
        "    print(f\"Te quedan {max_i - i} intentos\")\n",
        "\n",
        "  if show_dir == True:\n",
        "    if a < x:\n",
        "      print(\"El número es mayor que tu número\")\n",
        "    else:\n",
        "      print(\"El número es menor que tu número\")\n",
        "  \n",
        "  if i == max_i:\n",
        "    break\n",
        "  else:\n",
        "    a = int(input(\"Prueba otra vez \"))\n",
        "\n",
        "if i != max_i:\n",
        "  if i == 0:\n",
        "    print(\"Premio especial por acertar a la primera!!\")\n",
        "    print(\"Este es el link para descargar el código del juego:\")\n",
        "    print(\"---\")\n",
        "  else:\n",
        "    print(\"Correcto\")\n",
        "else:\n",
        "  print(\"No te quedan intentos\")\n",
        "\n",
        "print(\"\")\n",
        "\n",
        "decc = str(input(\"Quieres volver a jugar? \"))\n",
        "if decc == \"Si\":\n",
        "  print(\"Reiniciando...\")\n",
        "else:\n",
        "  c = 0\n",
        "  print(\"Pase un buen día\")\n"
      ],
      "execution_count": null,
      "outputs": []
    },
    {
      "cell_type": "code",
      "metadata": {
        "id": "dlRovBtBLHVp"
      },
      "source": [
        "print(\"\"\"\n",
        "\n",
        "      ______  _________ _______  _                 _______  _       _________ ______   _______ \n",
        "     (  ___ \\ \\__   __/(  ____ \\( (    /||\\     /|(  ____ \\( (    /|\\__   __/(  __  \\ (  ___  )\n",
        "     | (   ) )   ) (   | (    \\/|  \\  ( || )   ( || (    \\/|  \\  ( |   ) (   | (  \\  )| (   ) |\n",
        "     | (__/ /    | |   | (__    |   \\ | || |   | || (__    |   \\ | |   | |   | |   ) || |   | |\n",
        "     |  __ (     | |   |  __)   | (\\ \\) |( (   ) )|  __)   | (\\ \\) |   | |   | |   | || |   | |\n",
        "     | (  \\ \\    | |   | (      | | \\   | \\ \\_/ / | (      | | \\   |   | |   | |   ) || |   | |\n",
        "     | )___) )___) (___| (____/\\| )  \\  |  \\   /  | (____/\\| )  \\  |___) (___| (__/  )| (___) |\n",
        "     |/ \\___/ \\_______/(_______/|/    )_)   \\_/   (_______/|/    )_)\\_______/(______/ (_______)\n",
        "                                                                                               \n",
        "   _______  _         _________          _______  _______  _______      ______   _______  _       \n",
        "  (  ___  )( \\        \\__    _/|\\     /|(  ____ \\(  ____ \\(  ___  )    (  __  \\ (  ____ \\( \\      \n",
        "  | (   ) || (           )  (  | )   ( || (    \\/| (    \\/| (   ) |    | (  \\  )| (    \\/| (      \n",
        "  | (___) || |           |  |  | |   | || (__    | |      | |   | |    | |   ) || (__    | |      \n",
        "  |  ___  || |           |  |  | |   | ||  __)   | | ____ | |   | |    | |   | ||  __)   | |      \n",
        "  | (   ) || |           |  |  | |   | || (      | | \\_  )| |   | |    | |   ) || (      | |      \n",
        "  | )   ( || (____/\\  |\\_)  )  | (___) || (____/\\| (___) || (___) |    | (__/  )| (____/\\| (____/\\ \n",
        "  |/     \\|(_______/  (____/   (_______)(_______/(_______)(_______)    (______/ (_______/(_______/\n",
        "                                                                                                  \n",
        "                                 _______  _______  _______  _______ \n",
        "                                (  ___  )/ ___   )(  ___  )(  ____ )\n",
        "                                | (   ) |\\/   )  || (   ) || (    )|\n",
        "                                | (___) |    /   )| (___) || (____)|\n",
        "                                |  ___  |   /   / |  ___  ||     __)\n",
        "                                | (   ) |  /   /  | (   ) || (\\ (   \n",
        "                                | )   ( | /   (_/\\| )   ( || ) \\ \\__\n",
        "                                |/     \\|(_______/|/     \\||/   \\__/\n",
        "\"\"\")\n",
        "print(\"\")\n",
        "print(\"\")\n",
        "print(\" Se generará un número aleatorio del 1 al 10 y tendrá que acertarlo en el menor número posible de intentos\")\n",
        "print(\"\")\n",
        "print(\"\")\n",
        "dif = int(input(\"\"\"Primero, seleccione una dificultad:\n",
        "\n",
        "1) Fácil:   Tendrás asistencia y 5 intentos\n",
        "2) Díficil: No tendrás asistencia y 4 intentos\n",
        "3) Insano:  Sólo tendrás 3 intentos\n",
        "\n",
        "\"\"\"))\n",
        "\n",
        "if dif == 1:\n",
        "  max_i = 5\n",
        "  show_i = True\n",
        "  show_dir = True\n",
        "elif dif == 2:\n",
        "  max_i = 4\n",
        "  show_i = True\n",
        "  show_dir = False\n",
        "else:\n",
        "  max_i = 3\n",
        "  show_i = False\n",
        "  show_dir = False\n",
        "\n"
      ],
      "execution_count": null,
      "outputs": []
    },
    {
      "cell_type": "code",
      "metadata": {
        "id": "7DA7qMcv-Bs4"
      },
      "source": [
        "#PRIMER PROYECTO: Vamos a convertir este minijuego en algo más elaborado\n",
        "#Añade las siguientes mejoras:\n",
        "  #- Notificar al usuario si su número es mayor o menor* (implementado)\n",
        "  #- Implementar número máximo de intentos (implementado)\n",
        "  #- Mostrar número de intentos usados (implementado)\n",
        "  #- Posibilidad de volver a jugar\n",
        "  #- Mostrar resultado si se introduce -1 (cheat code)\n",
        "  #- Mensaje especial si se adivina a la primera\n",
        "  #- Cualquier otra mejora que se te ocurra:\n",
        "    #- Si se adivina a la primera mostrar link a Github como regalo \n",
        "    #- Elegir dificultad al inicio (fácil: muestra mayor o menor* y te da 5 intentos\\         (implementado)\n",
        "    #                               díficil: no muestra mayor o menor y te da 4 intentos\\\n",
        "    #                               insano: no muestra numero de intentos restantes y te da 3 intentos )\n",
        "    #- Racha de victorias\n",
        "    #- \n",
        "    \n",
        "#Sube tu proyecto a Github para que todos puedan verlo \n"
      ],
      "execution_count": null,
      "outputs": []
    }
  ]
}