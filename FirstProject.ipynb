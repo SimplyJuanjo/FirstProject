{
  "nbformat": 4,
  "nbformat_minor": 0,
  "metadata": {
    "colab": {
      "name": "FirstProject.ipynb",
      "provenance": [],
      "include_colab_link": true
    },
    "kernelspec": {
      "name": "python3",
      "display_name": "Python 3"
    },
    "language_info": {
      "name": "python"
    }
  },
  "cells": [
    {
      "cell_type": "markdown",
      "metadata": {
        "id": "view-in-github",
        "colab_type": "text"
      },
      "source": [
        "<a href=\"https://colab.research.google.com/github/SimplyJuanjo/FirstProject/blob/main/FirstProject.ipynb\" target=\"_parent\"><img src=\"https://colab.research.google.com/assets/colab-badge.svg\" alt=\"Open In Colab\"/></a>"
      ]
    },
    {
      "cell_type": "code",
      "metadata": {
        "id": "Kk33JQhjM39o"
      },
      "source": [
        "#Ejercicio Usando \"import random\" escribe un programa que genere un número aleatorio y le pida al usuario de manera repetida que escriba un número hasta que lo adivine:\n",
        "\n",
        "import random\n",
        "\n",
        "x = random.randint(1, 10)\n",
        "#tu código aquí:\n",
        "\n",
        "print(\"Intenta adivinar el número aleatorio del 1 al 10: \")\n",
        "while True:\n",
        "  a = int(input())\n",
        "  #print(type(a))\n",
        "  if a == x:\n",
        "    print(\"Correcto! \")\n",
        "    break\n",
        "  else:\n",
        "    print(\"Error,  vuelve a intentarlo: \")\n"
      ],
      "execution_count": null,
      "outputs": []
    },
    {
      "cell_type": "code",
      "metadata": {
        "id": "7DA7qMcv-Bs4"
      },
      "source": [
        "#PRIMER PROYECTO: Vamos a convertir este minijuego en algo más elaborado\n",
        "#Añade las siguientes mejoras:\n",
        "  #- Notificar al usuario si su número es mayor o menor*\n",
        "  #- Implementar número máximo de intentos\n",
        "  #- Mostrar número de intentos usados\n",
        "  #- Posibilidad de volver a jugar\n",
        "  #- Mostrar resultado si se introduce -1 (cheat code)\n",
        "  #- Mensaje especial si se adivina a la primera\n",
        "  #- Cualquier otra mejora que se te ocurra:\n",
        "    #- Si se adivina a la primera mostrar link a Github como regalo \n",
        "    #- Elegir dificultad al inicio (fácil: muestra mayor o menor* y te da 5 intentos\\\n",
        "    #                               díficil: no muestra mayor o menor y te da 3 intentos )\n",
        "    #- Racha de victorias\n",
        "    #- \n",
        "    \n",
        "#Sube tu proyecto a Github para que todos puedan verlo \n"
      ],
      "execution_count": null,
      "outputs": []
    }
  ]
}